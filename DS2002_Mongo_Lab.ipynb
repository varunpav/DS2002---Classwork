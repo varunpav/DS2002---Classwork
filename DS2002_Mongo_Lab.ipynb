{
  "nbformat": 4,
  "nbformat_minor": 0,
  "metadata": {
    "colab": {
      "provenance": [],
      "authorship_tag": "ABX9TyNVfJa7noswxIqenr6/CMx9",
      "include_colab_link": true
    },
    "kernelspec": {
      "name": "python3",
      "display_name": "Python 3"
    },
    "language_info": {
      "name": "python"
    }
  },
  "cells": [
    {
      "cell_type": "markdown",
      "metadata": {
        "id": "view-in-github",
        "colab_type": "text"
      },
      "source": [
        "<a href=\"https://colab.research.google.com/github/varunpav/DS2002---Data-Science-Systems/blob/main/DS2002_Mongo_Lab.ipynb\" target=\"_parent\"><img src=\"https://colab.research.google.com/assets/colab-badge.svg\" alt=\"Open In Colab\"/></a>"
      ]
    },
    {
      "cell_type": "markdown",
      "source": [
        "#Varun Pavuloori, DS2002, MongoDB lab"
      ],
      "metadata": {
        "id": "9LluqKWWr_DK"
      }
    },
    {
      "cell_type": "code",
      "source": [
        "!pip install pymongo"
      ],
      "metadata": {
        "colab": {
          "base_uri": "https://localhost:8080/"
        },
        "id": "5WZoownEsilB",
        "outputId": "31a13069-ef3a-43bf-9b7f-4ea49b19562d"
      },
      "execution_count": 3,
      "outputs": [
        {
          "output_type": "stream",
          "name": "stdout",
          "text": [
            "Collecting pymongo\n",
            "  Downloading pymongo-4.6.2-cp310-cp310-manylinux_2_17_x86_64.manylinux2014_x86_64.whl (677 kB)\n",
            "\u001b[2K     \u001b[90m━━━━━━━━━━━━━━━━━━━━━━━━━━━━━━━━━━━━━━━━\u001b[0m \u001b[32m677.2/677.2 kB\u001b[0m \u001b[31m7.6 MB/s\u001b[0m eta \u001b[36m0:00:00\u001b[0m\n",
            "\u001b[?25hCollecting dnspython<3.0.0,>=1.16.0 (from pymongo)\n",
            "  Downloading dnspython-2.6.1-py3-none-any.whl (307 kB)\n",
            "\u001b[2K     \u001b[90m━━━━━━━━━━━━━━━━━━━━━━━━━━━━━━━━━━━━━━━━\u001b[0m \u001b[32m307.7/307.7 kB\u001b[0m \u001b[31m11.1 MB/s\u001b[0m eta \u001b[36m0:00:00\u001b[0m\n",
            "\u001b[?25hInstalling collected packages: dnspython, pymongo\n",
            "Successfully installed dnspython-2.6.1 pymongo-4.6.2\n"
          ]
        }
      ]
    },
    {
      "cell_type": "code",
      "execution_count": 5,
      "metadata": {
        "id": "KwOXv8qIr6d7"
      },
      "outputs": [],
      "source": [
        "#imports\n",
        "import os\n",
        "import datetime\n",
        "import pymongo\n",
        "import pprint\n",
        "import pandas as pd\n",
        "\n",
        "  # connection\n",
        "\n",
        "host_name = \"localhost\"\n",
        "port = \"27017\"\n",
        "\n",
        "atlas_cluster_name = \"cluster0.xuibg2h\"\n",
        "atlas_default_dbname = \"sakila\"\n",
        "atlas_user_name = \"ds2002sp23\"\n",
        "atlas_password = \"uva1819\"\n",
        "conn_str = {\n",
        "    \"local\" : f\"mongodb://{host_name}:{port}/\",\n",
        "    \"atlas\" : f\"mongodb+srv://{atlas_user_name}:{atlas_password}@{atlas_cluster_name}.mongodb.net/{atlas_default_dbname}\"\n",
        "}\n",
        "\n",
        "client = pymongo.MongoClient(conn_str[\"atlas\"])"
      ]
    },
    {
      "cell_type": "code",
      "source": [
        "# Exercise 1\n",
        "print(\"List of databases:\", client.list_database_names())"
      ],
      "metadata": {
        "colab": {
          "base_uri": "https://localhost:8080/"
        },
        "id": "MHbao_vxvqGo",
        "outputId": "a61551b8-db22-4f98-a809-4123481b2da5"
      },
      "execution_count": 6,
      "outputs": [
        {
          "output_type": "stream",
          "name": "stdout",
          "text": [
            "List of databases: ['DS2002Final', 'DiegoMcgrath_class', 'ElijahKim_class', 'Emaan_class', 'JamesDraudt_class', 'MaxChang_class', 'MiaArk_class', 'SebastianWiktorowicz_class', 'StoreProducts', '_class', 'aidantan_class', 'anagha_class', 'anisha_class', 'api_project', 'blog', 'eva_class', 'grace_class', 'kaylasprincis_class', 'project', 'ronit_class', 'sakila', 'sample_airbnb', 'sample_analytics', 'sample_geospatial', 'sample_guides', 'sample_mflix', 'sample_restaurants', 'sample_supplies', 'sample_training', 'sample_weatherdata', 'sp_project2', 'sutherland_class', 'admin', 'local']\n"
          ]
        }
      ]
    },
    {
      "cell_type": "code",
      "source": [
        "# Exercise 2\n",
        "db_name = \"VarunPavuloori_class\"\n",
        "db = client[db_name]\n",
        "print(\"List of collections in the database:\", db.list_collection_names())"
      ],
      "metadata": {
        "colab": {
          "base_uri": "https://localhost:8080/"
        },
        "id": "P8S-vhbtvx6h",
        "outputId": "ce0f5a53-9760-4856-da28-2ef092fe0000"
      },
      "execution_count": 9,
      "outputs": [
        {
          "output_type": "stream",
          "name": "stdout",
          "text": [
            "List of collections in the database: ['students']\n"
          ]
        }
      ]
    },
    {
      "cell_type": "code",
      "source": [
        "# Exercise 3\n",
        "  # Single\n",
        "students_collection = db.students\n",
        "student_document = {\n",
        "    \"name\": \"Alexa\",\n",
        "    \"age\": 21,\n",
        "    \"major\": \"Biology\",\n",
        "    \"grade\": \"B\",\n",
        "    \"status\": \"inactive\",\n",
        "    \"interests\": [\"Genetics\", \"Microbiology\"]\n",
        "}\n",
        "students_collection.insert_one(student_document)\n",
        "\n",
        "  # Multiple\n",
        "\n",
        "students_documents = [\n",
        "    {\n",
        "        \"name\": \"Raj\",\n",
        "        \"age\": 20,\n",
        "        \"major\": \"Computer Engineering\",\n",
        "        \"grade\": \"A-\",\n",
        "        \"status\": \"active\",\n",
        "        \"interests\": [\"AI\", \"Machine Learning\"]\n",
        "    },\n",
        "    {\n",
        "        \"name\": \"Sofia\",\n",
        "        \"age\": 20,\n",
        "        \"major\": \"Environmental Science\",\n",
        "        \"grade\": \"A\",\n",
        "        \"status\": \"graduated\",\n",
        "        \"interests\": [\"Climate Change\", \"Sustainability\"]\n",
        "    },\n",
        "    {\n",
        "        \"name\": \"Liam\",\n",
        "        \"age\": 19,\n",
        "        \"major\": \"Business\",\n",
        "        \"grade\": \"B+\",\n",
        "        \"status\": \"active\",\n",
        "        \"interests\": [\"Entrepreneurship\", \"Finance\"]\n",
        "    },\n",
        "    {\n",
        "        \"name\": \"John\",\n",
        "        \"age\": 20,\n",
        "        \"major\": \"Computer Science\",\n",
        "        \"grade\": \"A\",\n",
        "        \"status\": \"Inactive\",\n",
        "        \"interests\": [\"Software Testing\", \"Compilers\"]\n",
        "    }\n",
        "]\n",
        "students_collection.insert_many(students_documents)"
      ],
      "metadata": {
        "colab": {
          "base_uri": "https://localhost:8080/"
        },
        "id": "q2agKKlZwR8O",
        "outputId": "7ac9383c-113c-4de3-a3b1-1a8e67017cbd"
      },
      "execution_count": 14,
      "outputs": [
        {
          "output_type": "execute_result",
          "data": {
            "text/plain": [
              "InsertManyResult([ObjectId('6600b6f012bca3d51f255059'), ObjectId('6600b6f012bca3d51f25505a'), ObjectId('6600b6f012bca3d51f25505b'), ObjectId('6600b6f012bca3d51f25505c')], acknowledged=True)"
            ]
          },
          "metadata": {},
          "execution_count": 14
        }
      ]
    },
    {
      "cell_type": "code",
      "source": [
        "# Exercise 4\n",
        "print(\"All students:\", list(students_collection.find({})))\n",
        "print(\"Students named Raj:\", list(students_collection.find({\"name\": \"Raj\"})))"
      ],
      "metadata": {
        "colab": {
          "base_uri": "https://localhost:8080/"
        },
        "id": "2Dt3WX2-xgJv",
        "outputId": "7e728d2d-03c6-439d-fe58-e90411ceb51d"
      },
      "execution_count": 15,
      "outputs": [
        {
          "output_type": "stream",
          "name": "stdout",
          "text": [
            "All students: [{'_id': ObjectId('6600b5ab12bca3d51f255054'), 'name': 'Alexa', 'age': 21, 'major': 'Biology', 'grade': 'B', 'status': 'active', 'interests': ['Genetics', 'Microbiology']}, {'_id': ObjectId('6600b5ab12bca3d51f255055'), 'name': 'Raj', 'age': 20, 'major': 'Computer Engineering', 'grade': 'A-', 'status': 'active', 'interests': ['AI', 'Machine Learning']}, {'_id': ObjectId('6600b5ab12bca3d51f255056'), 'name': 'Sofia', 'age': 22, 'major': 'Environmental Science', 'grade': 'A', 'status': 'graduated', 'interests': ['Climate Change', 'Sustainability']}, {'_id': ObjectId('6600b5ab12bca3d51f255057'), 'name': 'Liam', 'age': 19, 'major': 'Business', 'grade': 'A+', 'status': 'active', 'interests': ['Entrepreneurship', 'Finance']}, {'_id': ObjectId('6600b6ef12bca3d51f255058'), 'name': 'Alexa', 'age': 21, 'major': 'Biology', 'grade': 'B', 'status': 'inactive', 'interests': ['Genetics', 'Microbiology']}, {'_id': ObjectId('6600b6f012bca3d51f255059'), 'name': 'Raj', 'age': 20, 'major': 'Computer Engineering', 'grade': 'A-', 'status': 'active', 'interests': ['AI', 'Machine Learning']}, {'_id': ObjectId('6600b6f012bca3d51f25505a'), 'name': 'Sofia', 'age': 20, 'major': 'Environmental Science', 'grade': 'A', 'status': 'graduated', 'interests': ['Climate Change', 'Sustainability']}, {'_id': ObjectId('6600b6f012bca3d51f25505b'), 'name': 'Liam', 'age': 19, 'major': 'Business', 'grade': 'B+', 'status': 'active', 'interests': ['Entrepreneurship', 'Finance']}, {'_id': ObjectId('6600b6f012bca3d51f25505c'), 'name': 'John', 'age': 20, 'major': 'Computer Science', 'grade': 'A', 'status': 'Inactive', 'interests': ['Software Testing', 'Compilers']}]\n",
            "Students named Raj: [{'_id': ObjectId('6600b5ab12bca3d51f255055'), 'name': 'Raj', 'age': 20, 'major': 'Computer Engineering', 'grade': 'A-', 'status': 'active', 'interests': ['AI', 'Machine Learning']}, {'_id': ObjectId('6600b6f012bca3d51f255059'), 'name': 'Raj', 'age': 20, 'major': 'Computer Engineering', 'grade': 'A-', 'status': 'active', 'interests': ['AI', 'Machine Learning']}]\n"
          ]
        }
      ]
    },
    {
      "cell_type": "code",
      "source": [
        "# Exercise 5\n",
        "students_collection.update_one({\"name\": \"Liam\"}, {\"$set\": {\"grade\": \"A+\"}})\n",
        "students_collection.update_many({\"status\": \"active\"}, {\"$set\": {\"status\": \"graduated\"}})"
      ],
      "metadata": {
        "colab": {
          "base_uri": "https://localhost:8080/"
        },
        "id": "uvlc4Pp-xwaN",
        "outputId": "cd388363-865b-44a0-ef3b-fcf7f84069e8"
      },
      "execution_count": 16,
      "outputs": [
        {
          "output_type": "execute_result",
          "data": {
            "text/plain": [
              "UpdateResult({'n': 5, 'electionId': ObjectId('7fffffff0000000000000187'), 'opTime': {'ts': Timestamp(1711322869, 12), 't': 391}, 'nModified': 5, 'ok': 1.0, '$clusterTime': {'clusterTime': Timestamp(1711322869, 12), 'signature': {'hash': b'V\\xa4\\x89\\xc12\\x83\\x16\\x8c\\x18\\xc1K@\\x91\\xdf4\\x8d\\xeb\\xc6\\xf9\\xc7', 'keyId': 7305585258479484929}}, 'operationTime': Timestamp(1711322869, 12), 'updatedExisting': True}, acknowledged=True)"
            ]
          },
          "metadata": {},
          "execution_count": 16
        }
      ]
    },
    {
      "cell_type": "code",
      "source": [
        "# Exercise 6\n",
        "students_collection.delete_one({\"name\": \"Sofia\"})\n",
        "students_collection.delete_many({\"status\": \"inactive\"})"
      ],
      "metadata": {
        "colab": {
          "base_uri": "https://localhost:8080/"
        },
        "id": "iiwsueSDyDWQ",
        "outputId": "981cfcc8-3960-4984-b11f-b4a6e3d17091"
      },
      "execution_count": 17,
      "outputs": [
        {
          "output_type": "execute_result",
          "data": {
            "text/plain": [
              "DeleteResult({'n': 1, 'electionId': ObjectId('7fffffff0000000000000187'), 'opTime': {'ts': Timestamp(1711322873, 15), 't': 391}, 'ok': 1.0, '$clusterTime': {'clusterTime': Timestamp(1711322873, 15), 'signature': {'hash': b'\\xe5\\x198\\xf7\\xd7_\\t\\x10\\xb9\\x14\\x95\\x86S\\x90di\\xab\\x85?\\xca', 'keyId': 7305585258479484929}}, 'operationTime': Timestamp(1711322873, 15)}, acknowledged=True)"
            ]
          },
          "metadata": {},
          "execution_count": 17
        }
      ]
    }
  ]
}