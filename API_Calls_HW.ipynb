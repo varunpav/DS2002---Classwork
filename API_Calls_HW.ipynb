{
  "nbformat": 4,
  "nbformat_minor": 0,
  "metadata": {
    "colab": {
      "provenance": [],
      "authorship_tag": "ABX9TyMRAn3VSDHRl+iZTpOZFGiF",
      "include_colab_link": true
    },
    "kernelspec": {
      "name": "python3",
      "display_name": "Python 3"
    },
    "language_info": {
      "name": "python"
    }
  },
  "cells": [
    {
      "cell_type": "markdown",
      "metadata": {
        "id": "view-in-github",
        "colab_type": "text"
      },
      "source": [
        "<a href=\"https://colab.research.google.com/github/varunpav/DS2002---Data-Science-Systems/blob/main/API_Calls_HW.ipynb\" target=\"_parent\"><img src=\"https://colab.research.google.com/assets/colab-badge.svg\" alt=\"Open In Colab\"/></a>"
      ]
    },
    {
      "cell_type": "code",
      "execution_count": null,
      "metadata": {
        "colab": {
          "base_uri": "https://localhost:8080/"
        },
        "id": "bgLHAmYntP20",
        "outputId": "f91fbb1a-bf8f-4f2d-c594-d9d660858292"
      },
      "outputs": [
        {
          "name": "stdout",
          "output_type": "stream",
          "text": [
            "Enter a country name (or type 'exit' to quit): ja\n",
            "No country found... Please check!\n",
            "Country not found. Please check your spelling and try again.\n",
            "Enter a country name (or type 'exit' to quit): exit\n"
          ]
        }
      ],
      "source": [
        "import requests\n",
        "import pandas as pd\n",
        "\n",
        "# Initialize or load the DataFrame\n",
        "try:\n",
        "    df = pd.read_json('country_info.json', lines=True)\n",
        "except (ValueError, FileNotFoundError):\n",
        "    df = pd.DataFrame(columns=['Country', 'Capital', 'Population'])\n",
        "\n",
        "def fetch_country_info(country_name):\n",
        "    url = \"https://restcountries.com/v3.1/all\"\n",
        "    try:\n",
        "        response = requests.get(url)\n",
        "        response.raise_for_status()  # Raise an error for bad responses\n",
        "        all_countries = response.json()\n",
        "\n",
        "        for country in all_countries:\n",
        "            if country_name.lower() == country['name']['common'].lower():\n",
        "                return {\n",
        "                    'Country': country['name']['common'],\n",
        "                    'Capital': country['capital'][0] if 'capital' in country else 'No Capital',\n",
        "                    'Population': country['population']\n",
        "                }\n",
        "        return None  # If country not found\n",
        "\n",
        "    # Error in accessing the API Endpoint\n",
        "    except requests.exceptions.RequestException as e:\n",
        "        print(f\"Error fetching data: {e}\")\n",
        "        return None\n",
        "\n",
        "# Add the country to the dataframe\n",
        "def add_to_dataframe(country_info):\n",
        "    global df\n",
        "    df_upd = pd.DataFrame([country_info])\n",
        "    df = pd.concat([df, df_upd], ignore_index=True)\n",
        "\n",
        "# Save the country info to the json file\n",
        "def save_to_json():\n",
        "    df.to_json('country_info.json', orient='records', lines=True)\n",
        "\n",
        "def main():\n",
        "\n",
        "    #Continuously ask for user input until loop is desired to be broken\n",
        "    while True:\n",
        "        country_name = input(\"Enter a country name (or type 'exit' to quit): \")\n",
        "        if country_name.lower() == 'exit':\n",
        "            break\n",
        "\n",
        "        info = fetch_country_info(country_name)\n",
        "        if info:\n",
        "            add_to_dataframe(info)\n",
        "            print(f\"Country: {info['Country']}, Capital: {info['Capital']}, Population: {info['Population']}\")\n",
        "            save_to_json()\n",
        "\n",
        "        else:\n",
        "            print(\"Country not found.\")\n",
        "\n",
        "if __name__ == \"__main__\":\n",
        "    main()\n"
      ]
    }
  ]
}