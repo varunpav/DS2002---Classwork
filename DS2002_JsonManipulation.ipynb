{
  "nbformat": 4,
  "nbformat_minor": 0,
  "metadata": {
    "colab": {
      "provenance": []
    },
    "kernelspec": {
      "name": "python3",
      "display_name": "Python 3"
    },
    "language_info": {
      "name": "python"
    }
  },
  "cells": [
    {
      "cell_type": "markdown",
      "source": [
        "Code for project."
      ],
      "metadata": {
        "id": "aqLU1RnvP-L6"
      }
    },
    {
      "cell_type": "code",
      "source": [
        "import json\n",
        "import pandas as pd\n",
        "from collections import Counter\n",
        "\n",
        "url = \"https://raw.githubusercontent.com/jasonwnc/ds2002s24/main/2.%20Python/coll%20bb_SortByConf.json\"\n",
        "data = pd.read_json(url)\n",
        "df = pd.DataFrame(data)\n",
        "\n",
        "# Output the first 100 rows\n",
        "print(\"First 100 rows:\")\n",
        "print(df.head(100))\n",
        "\n",
        "print(\"---------------------\")\n",
        "\n",
        "# Number of teams\n",
        "teams_list = data['teams']\n",
        "num_teams = len(teams_list)\n",
        "print(\"Number of teams:\", num_teams)\n",
        "\n",
        "print(\"---------------------\")\n",
        "\n",
        "# Num teams in VA\n",
        "num_teams_virginia = sum(1 for team in teams_list if team['state'] == 'VA')\n",
        "print(\"Number of teams in the state of Virginia:\", num_teams_virginia)\n",
        "\n",
        "print(\"---------------------\")\n",
        "\n",
        "mascots = [team['name'] for team in teams_list]\n",
        "mascot_counts = Counter(mascots)\n",
        "duplicate_mascots = {mascot: count for mascot, count in mascot_counts.items() if count > 1}\n",
        "print(\"List of Duplicate Mascots and their counts grouped by number:\")\n",
        "for mascot, count in duplicate_mascots.items():\n",
        "    print(f\"{mascot}: {count}\")"
      ],
      "metadata": {
        "colab": {
          "base_uri": "https://localhost:8080/"
        },
        "id": "I7rYmtaJQQIj",
        "outputId": "9dab7b7b-e760-4573-abcb-66cd496e496b"
      },
      "execution_count": 32,
      "outputs": [
        {
          "output_type": "stream",
          "name": "stdout",
          "text": [
            "First 100 rows:\n",
            "                                                teams\n",
            "0   {'tid': 159, 'cid': 0, 'did': 0, 'region': 'Bo...\n",
            "1   {'tid': 105, 'cid': 0, 'did': 0, 'region': 'Cl...\n",
            "2   {'tid': 109, 'cid': 0, 'did': 0, 'region': 'Fl...\n",
            "3   {'tid': 18, 'cid': 0, 'did': 0, 'region': 'Lou...\n",
            "4   {'tid': 31, 'cid': 0, 'did': 0, 'region': 'Nor...\n",
            "..                                                ...\n",
            "95  {'tid': 300, 'cid': 5, 'did': 11, 'region': 'J...\n",
            "96  {'tid': 72, 'cid': 6, 'did': 12, 'region': 'Ea...\n",
            "97  {'tid': 139, 'cid': 6, 'did': 12, 'region': 'S...\n",
            "98  {'tid': 239, 'cid': 6, 'did': 12, 'region': 'N...\n",
            "99  {'tid': 266, 'cid': 6, 'did': 12, 'region': 'I...\n",
            "\n",
            "[100 rows x 1 columns]\n",
            "---------------------\n",
            "Number of teams: 320\n",
            "---------------------\n",
            "Number of teams in the state of Virginia: 13\n",
            "---------------------\n",
            "List of Duplicate Mascots and their counts grouped by number:\n",
            "Eagles: 10\n",
            "Tigers: 9\n",
            "Cardinals: 4\n",
            "Panthers: 8\n",
            "Huskies: 5\n",
            "Wolverines: 2\n",
            "Spartans: 4\n",
            "Wildcats: 8\n",
            "Jaguars: 3\n",
            "Bulldogs: 13\n",
            "Gamecocks: 2\n",
            "Rebels: 2\n",
            "Aggies: 4\n",
            "Cougars: 4\n",
            "Pioneers: 2\n",
            "Bruins: 2\n",
            "Trojans: 3\n",
            "Rams: 4\n",
            "Broncos: 3\n",
            "Bears: 4\n",
            "Crusaders: 2\n",
            "Phoenix: 2\n",
            "Vikings: 3\n",
            "Cowboys: 3\n",
            "Mountaineers: 3\n",
            "Titans: 2\n",
            "Mavericks: 2\n",
            "Bobcats: 3\n",
            "Hornets: 3\n",
            "Lions: 2\n",
            "Lumberjacks: 2\n",
            "Bisons: 2\n",
            "Redhawks: 3\n",
            "Roadrunners: 2\n",
            "Gaels: 2\n",
            "49ers: 2\n",
            "Highlanders: 2\n",
            "Mustangs: 2\n",
            "Bison: 2\n",
            "Raiders: 2\n",
            "Terriers: 3\n",
            "Catamounts: 2\n",
            "Hawks: 4\n",
            "Pirates: 3\n",
            "Owls: 4\n",
            "Knights: 2\n",
            "Bulls: 2\n",
            "Dukes: 2\n",
            "Colonials: 2\n",
            "Buccaneers: 2\n",
            "Golden Eagles: 4\n",
            "Falcons: 2\n"
          ]
        }
      ]
    },
    {
      "cell_type": "code",
      "source": [],
      "metadata": {
        "id": "x9xt1DtgXkSY"
      },
      "execution_count": null,
      "outputs": []
    }
  ]
}